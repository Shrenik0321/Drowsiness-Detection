{
 "cells": [
  {
   "cell_type": "code",
   "execution_count": 1,
   "id": "a503e2b9-17d0-432e-a876-8c5fe3724dbf",
   "metadata": {
    "scrolled": true,
    "tags": []
   },
   "outputs": [],
   "source": [
    "# !pip3 install torch torchvision torchaudio --index-url https://download.pytorch.org/whl/cu118\n",
    "# !pip install ultralytics\n",
    "# !pip install roboflow"
   ]
  },
  {
   "cell_type": "markdown",
   "id": "6115595d-1cb0-4472-9f0d-af5fca5e0a34",
   "metadata": {},
   "source": [
    "# Imports"
   ]
  },
  {
   "cell_type": "code",
   "execution_count": 2,
   "id": "758478f3-2000-4854-9138-0e2a594c64f2",
   "metadata": {
    "tags": []
   },
   "outputs": [
    {
     "name": "stdout",
     "output_type": "stream",
     "text": [
      "Ultralytics YOLOv8.1.20 🚀 Python-3.11.5 torch-2.2.1+cpu CPU (AMD Ryzen 7 5700U with Radeon Graphics)\n",
      "Setup complete ✅ (16 CPUs, 7.3 GB RAM, 128.1/325.7 GB disk)\n"
     ]
    }
   ],
   "source": [
    "import ultralytics\n",
    "ultralytics.checks()"
   ]
  },
  {
   "cell_type": "code",
   "execution_count": 3,
   "id": "8a9ec713-14ca-4830-8f35-c57abeb97297",
   "metadata": {
    "tags": []
   },
   "outputs": [],
   "source": [
    "import torch\n",
    "from matplotlib import pyplot as plt\n",
    "import numpy as np\n",
    "import pandas as pd\n",
    "import cv2\n",
    "from ultralytics import YOLO"
   ]
  },
  {
   "cell_type": "markdown",
   "id": "c0c2718e-963c-492e-a0ed-16fc5caa763c",
   "metadata": {},
   "source": [
    "# Load Trained Custom Model"
   ]
  },
  {
   "cell_type": "code",
   "execution_count": 4,
   "id": "66e511e3-f9d7-4cc4-97bf-99b7f2f96da6",
   "metadata": {
    "tags": []
   },
   "outputs": [],
   "source": [
    "model = YOLO(\"models/best.pt\")"
   ]
  },
  {
   "cell_type": "markdown",
   "id": "079e1c61-37c9-4ee2-9e3e-6c350d2e8a70",
   "metadata": {},
   "source": [
    "# Testing Model with Single Image"
   ]
  },
  {
   "cell_type": "code",
   "execution_count": 7,
   "id": "ddd79fd7-1b2b-4eae-b254-380506a24295",
   "metadata": {
    "tags": []
   },
   "outputs": [
    {
     "name": "stdout",
     "output_type": "stream",
     "text": [
      "\n",
      "image 1/1 D:\\College\\SDGP\\drowseguard-ml\\images\\img3.jpg: 480x640 1 awake, 86.7ms\n",
      "Speed: 0.5ms preprocess, 86.7ms inference, 1.1ms postprocess per image at shape (1, 3, 480, 640)\n"
     ]
    }
   ],
   "source": [
    "awake_results = model('images/img3.jpg')  # list of 1 Results object"
   ]
  },
  {
   "cell_type": "code",
   "execution_count": 8,
   "id": "2d2d76f1-a532-4eb2-b4c1-21cb3d6c4dcb",
   "metadata": {
    "tags": []
   },
   "outputs": [],
   "source": [
    "for a in awake_results:\n",
    "    a.show()"
   ]
  },
  {
   "cell_type": "code",
   "execution_count": 9,
   "id": "bd3dec43-ab54-470f-a223-222bc9b9f8b0",
   "metadata": {
    "tags": []
   },
   "outputs": [
    {
     "name": "stdout",
     "output_type": "stream",
     "text": [
      "\n",
      "image 1/1 D:\\College\\SDGP\\drowseguard-ml\\images\\img4.jpg: 352x640 1 awake, 1 drowsy, 74.1ms\n",
      "Speed: 2.5ms preprocess, 74.1ms inference, 1.0ms postprocess per image at shape (1, 3, 352, 640)\n"
     ]
    }
   ],
   "source": [
    "drowsy_results = model('images/img4.jpg')  # list of 1 Results object"
   ]
  },
  {
   "cell_type": "code",
   "execution_count": 10,
   "id": "052d018e-9d35-4af4-9d8d-a6905c613e18",
   "metadata": {
    "tags": []
   },
   "outputs": [],
   "source": [
    "for d in drowsy_results:\n",
    "    d.show()"
   ]
  },
  {
   "cell_type": "markdown",
   "id": "4d5b6e79-ca8e-4c68-99e9-12248ea88b45",
   "metadata": {},
   "source": [
    "# Testing Model with multiple images"
   ]
  },
  {
   "cell_type": "code",
   "execution_count": 11,
   "id": "0c412047-3510-4e29-a315-1b11a43df57f",
   "metadata": {
    "tags": []
   },
   "outputs": [
    {
     "name": "stdout",
     "output_type": "stream",
     "text": [
      "\n",
      "0: 640x640 5 awakes, 5 drowsys, 1: 640x640 12 awakes, 4 drowsys, 174.5ms\n",
      "Speed: 3.5ms preprocess, 87.3ms inference, 1.5ms postprocess per image at shape (1, 3, 640, 640)\n"
     ]
    }
   ],
   "source": [
    "results = model(['images/img1.jpeg', 'images/img2.jpeg'])"
   ]
  },
  {
   "cell_type": "code",
   "execution_count": 12,
   "id": "9a12b2c0-c9e6-48c6-b51e-5799998c98ad",
   "metadata": {
    "tags": []
   },
   "outputs": [],
   "source": [
    "# Process results list\n",
    "for result in results:\n",
    "    boxes = result.boxes  # Boxes object for bounding box outputs\n",
    "    masks = result.masks  # Masks object for segmentation masks outputs\n",
    "    keypoints = result.keypoints  # Keypoints object for pose outputs\n",
    "    probs = result.probs  # Probs object for classification outputs\n",
    "    result.show()  # display to screen\n",
    "    # result.save(filename='result.jpg')  # save to disk"
   ]
  },
  {
   "cell_type": "markdown",
   "id": "61f6f4cf-0acb-4c56-91b0-e870828c7669",
   "metadata": {},
   "source": [
    "# Testing Model with real time feed"
   ]
  },
  {
   "cell_type": "code",
   "execution_count": 5,
   "id": "c7547df1-e7ef-4b3d-bbc2-676cff54f5cb",
   "metadata": {
    "tags": []
   },
   "outputs": [],
   "source": [
    "model = YOLO(\"models/best.pt\")"
   ]
  },
  {
   "cell_type": "code",
   "execution_count": null,
   "id": "f2f4daa9-2935-46e6-9358-a4fb4df3c890",
   "metadata": {
    "scrolled": true,
    "tags": []
   },
   "outputs": [],
   "source": [
    "cap = cv2.VideoCapture(0)\n",
    "\n",
    "# Loop through the video frames\n",
    "while cap.isOpened():\n",
    "    # Read a frame from the video\n",
    "    success, frame = cap.read()\n",
    "\n",
    "    if success:\n",
    "        # Run YOLOv8 inference on the frame\n",
    "        results = model(frame)\n",
    "\n",
    "        # Visualize the results on the frame\n",
    "        annotated_frame = results[0].plot()\n",
    "\n",
    "        # Display the annotated frame\n",
    "        cv2.imshow(\"YOLOv8 Inference\", annotated_frame)\n",
    "\n",
    "        # Break the loop if 'q' is pressed\n",
    "        if cv2.waitKey(1) & 0xFF == ord(\"q\"):\n",
    "            break\n",
    "    else:\n",
    "        # Break the loop if the end of the video is reached\n",
    "        break\n",
    "\n",
    "# Release the video capture object and close the display window\n",
    "cap.release()\n",
    "cv2.destroyAllWindows()"
   ]
  },
  {
   "cell_type": "code",
   "execution_count": 18,
   "id": "55c067db-5dd7-440f-b58e-c2a991706b09",
   "metadata": {
    "tags": []
   },
   "outputs": [
    {
     "ename": "error",
     "evalue": "OpenCV(4.6.0) C:\\b\\abs_f8n1j3l9l0\\croot\\opencv-suite_1691622637237\\work\\modules\\highgui\\src\\window.cpp:1261: error: (-2:Unspecified error) The function is not implemented. Rebuild the library with Windows, GTK+ 2.x or Cocoa support. If you are on Ubuntu or Debian, install libgtk2.0-dev and pkg-config, then re-run cmake or configure script in function 'cvDestroyAllWindows'\n",
     "output_type": "error",
     "traceback": [
      "\u001b[1;31m---------------------------------------------------------------------------\u001b[0m",
      "\u001b[1;31merror\u001b[0m                                     Traceback (most recent call last)",
      "Cell \u001b[1;32mIn[18], line 3\u001b[0m\n\u001b[0;32m      1\u001b[0m cap \u001b[38;5;241m=\u001b[39m cv2\u001b[38;5;241m.\u001b[39mVideoCapture(\u001b[38;5;241m0\u001b[39m)\n\u001b[0;32m      2\u001b[0m cap\u001b[38;5;241m.\u001b[39mrelease()\n\u001b[1;32m----> 3\u001b[0m \u001b[43mcv2\u001b[49m\u001b[38;5;241;43m.\u001b[39;49m\u001b[43mdestroyAllWindows\u001b[49m\u001b[43m(\u001b[49m\u001b[43m)\u001b[49m\n",
      "\u001b[1;31merror\u001b[0m: OpenCV(4.6.0) C:\\b\\abs_f8n1j3l9l0\\croot\\opencv-suite_1691622637237\\work\\modules\\highgui\\src\\window.cpp:1261: error: (-2:Unspecified error) The function is not implemented. Rebuild the library with Windows, GTK+ 2.x or Cocoa support. If you are on Ubuntu or Debian, install libgtk2.0-dev and pkg-config, then re-run cmake or configure script in function 'cvDestroyAllWindows'\n"
     ]
    }
   ],
   "source": [
    "cap = cv2.VideoCapture(0)\n",
    "cap.release()\n",
    "cv2.destroyAllWindows()"
   ]
  },
  {
   "cell_type": "markdown",
   "id": "0f201686-4fef-4057-a3f8-fd390a6ed2ea",
   "metadata": {},
   "source": [
    "# Quantitative Evaluation using test dataset"
   ]
  },
  {
   "cell_type": "code",
   "execution_count": 3,
   "id": "501055e7-d228-45b6-9158-56c137627d81",
   "metadata": {
    "tags": []
   },
   "outputs": [],
   "source": [
    "model = YOLO(\"models/best.pt\") "
   ]
  },
  {
   "cell_type": "code",
   "execution_count": 5,
   "id": "7145fbef-f2fd-487a-bded-581af2f93798",
   "metadata": {
    "scrolled": true,
    "tags": []
   },
   "outputs": [
    {
     "name": "stdout",
     "output_type": "stream",
     "text": [
      "\n",
      "image 1/103 D:\\College\\SDGP\\drowseguard-ml\\Drowsiness-Detection-2\\valid\\images\\GOPR0492_MP4-105_jpg.rf.d60d9a06c0a43da198d22b4e1463f3d6.jpg: 640x640 1 drowsy, 116.5ms\n",
      "image 2/103 D:\\College\\SDGP\\drowseguard-ml\\Drowsiness-Detection-2\\valid\\images\\GOPR0492_MP4-108_jpg.rf.cd3906c5aa7fddfa0dc4d050f72ce228.jpg: 640x640 1 awake, 84.9ms\n",
      "image 3/103 D:\\College\\SDGP\\drowseguard-ml\\Drowsiness-Detection-2\\valid\\images\\GOPR0492_MP4-113_jpg.rf.e59821fca621f38a6d3e4eadbba8c207.jpg: 640x640 1 awake, 81.5ms\n",
      "image 4/103 D:\\College\\SDGP\\drowseguard-ml\\Drowsiness-Detection-2\\valid\\images\\GOPR0492_MP4-114_jpg.rf.55a6dec9076f751f02f7899636250867.jpg: 640x640 1 drowsy, 87.4ms\n",
      "image 5/103 D:\\College\\SDGP\\drowseguard-ml\\Drowsiness-Detection-2\\valid\\images\\GOPR0492_MP4-122_jpg.rf.5b8d6290eea7c4b57079871f5059860a.jpg: 640x640 1 awake, 90.1ms\n",
      "image 6/103 D:\\College\\SDGP\\drowseguard-ml\\Drowsiness-Detection-2\\valid\\images\\GOPR0492_MP4-12_jpg.rf.00913202eaf6b58ca105d0e6c1cd25ef.jpg: 640x640 1 awake, 88.8ms\n",
      "image 7/103 D:\\College\\SDGP\\drowseguard-ml\\Drowsiness-Detection-2\\valid\\images\\GOPR0492_MP4-131_jpg.rf.216426dda3585d30b4501c833d582187.jpg: 640x640 1 drowsy, 80.5ms\n",
      "image 8/103 D:\\College\\SDGP\\drowseguard-ml\\Drowsiness-Detection-2\\valid\\images\\GOPR0492_MP4-132_jpg.rf.e19e76d873034197d6a50814f0f574b1.jpg: 640x640 1 awake, 81.6ms\n",
      "image 9/103 D:\\College\\SDGP\\drowseguard-ml\\Drowsiness-Detection-2\\valid\\images\\GOPR0492_MP4-133_jpg.rf.8645953e4a2f5df7d9d9e9998cd079c3.jpg: 640x640 1 awake, 83.1ms\n",
      "image 10/103 D:\\College\\SDGP\\drowseguard-ml\\Drowsiness-Detection-2\\valid\\images\\GOPR0492_MP4-137_jpg.rf.c5fd1d6c6b366b286c248e7a717ae4b3.jpg: 640x640 1 awake, 84.2ms\n",
      "image 11/103 D:\\College\\SDGP\\drowseguard-ml\\Drowsiness-Detection-2\\valid\\images\\GOPR0492_MP4-140_jpg.rf.095315ba7d4f3b6dd8b57a90e3378fd4.jpg: 640x640 1 awake, 86.8ms\n",
      "image 12/103 D:\\College\\SDGP\\drowseguard-ml\\Drowsiness-Detection-2\\valid\\images\\GOPR0492_MP4-142_jpg.rf.8f1d5bc1ed1e96a83ca849624b13ed20.jpg: 640x640 1 awake, 81.8ms\n",
      "image 13/103 D:\\College\\SDGP\\drowseguard-ml\\Drowsiness-Detection-2\\valid\\images\\GOPR0492_MP4-145_jpg.rf.ce0acde5411e7212ac2dc675fa622f04.jpg: 640x640 1 awake, 82.5ms\n",
      "image 14/103 D:\\College\\SDGP\\drowseguard-ml\\Drowsiness-Detection-2\\valid\\images\\GOPR0492_MP4-148_jpg.rf.12af54c625cd47283e952c8e4be2d91b.jpg: 640x640 1 awake, 83.6ms\n",
      "image 15/103 D:\\College\\SDGP\\drowseguard-ml\\Drowsiness-Detection-2\\valid\\images\\GOPR0492_MP4-151_jpg.rf.46731f1c1f24cd19326ba95f474715ab.jpg: 640x640 1 drowsy, 83.9ms\n",
      "image 16/103 D:\\College\\SDGP\\drowseguard-ml\\Drowsiness-Detection-2\\valid\\images\\GOPR0492_MP4-153_jpg.rf.821d3410d7408ee9b42389fa6b1f3c5b.jpg: 640x640 1 drowsy, 82.8ms\n",
      "image 17/103 D:\\College\\SDGP\\drowseguard-ml\\Drowsiness-Detection-2\\valid\\images\\GOPR0492_MP4-158_jpg.rf.b136c7ef0c45fc766ae42b89549c5720.jpg: 640x640 1 drowsy, 80.1ms\n",
      "image 18/103 D:\\College\\SDGP\\drowseguard-ml\\Drowsiness-Detection-2\\valid\\images\\GOPR0492_MP4-166_jpg.rf.294fcb1f353d4820a0064b92aa2ba57b.jpg: 640x640 1 drowsy, 84.3ms\n",
      "image 19/103 D:\\College\\SDGP\\drowseguard-ml\\Drowsiness-Detection-2\\valid\\images\\GOPR0492_MP4-175_jpg.rf.7850441f375d08d948b79cf92b10457f.jpg: 640x640 1 awake, 80.9ms\n",
      "image 20/103 D:\\College\\SDGP\\drowseguard-ml\\Drowsiness-Detection-2\\valid\\images\\GOPR0492_MP4-178_jpg.rf.fabe3eab9af21eac6fd49866c79c5fb2.jpg: 640x640 1 awake, 85.9ms\n",
      "image 21/103 D:\\College\\SDGP\\drowseguard-ml\\Drowsiness-Detection-2\\valid\\images\\GOPR0492_MP4-17_jpg.rf.8170120445912e25726b38df5ff0d08f.jpg: 640x640 1 awake, 86.7ms\n",
      "image 22/103 D:\\College\\SDGP\\drowseguard-ml\\Drowsiness-Detection-2\\valid\\images\\GOPR0492_MP4-18_jpg.rf.0642b97fbcab6b2dcab24aa3606951f2.jpg: 640x640 1 awake, 86.2ms\n",
      "image 23/103 D:\\College\\SDGP\\drowseguard-ml\\Drowsiness-Detection-2\\valid\\images\\GOPR0492_MP4-193_jpg.rf.79bacc378f7855ddff782413cef009a8.jpg: 640x640 1 drowsy, 84.8ms\n",
      "image 24/103 D:\\College\\SDGP\\drowseguard-ml\\Drowsiness-Detection-2\\valid\\images\\GOPR0492_MP4-205_jpg.rf.53e43506df1331f95540a69b3b8f5896.jpg: 640x640 1 awake, 87.2ms\n",
      "image 25/103 D:\\College\\SDGP\\drowseguard-ml\\Drowsiness-Detection-2\\valid\\images\\GOPR0492_MP4-212_jpg.rf.e067585dda01b596e276bd560c55f88d.jpg: 640x640 1 awake, 87.8ms\n",
      "image 26/103 D:\\College\\SDGP\\drowseguard-ml\\Drowsiness-Detection-2\\valid\\images\\GOPR0492_MP4-214_jpg.rf.fd9fff1f3345dc08d1785852e08f59a4.jpg: 640x640 1 awake, 82.6ms\n",
      "image 27/103 D:\\College\\SDGP\\drowseguard-ml\\Drowsiness-Detection-2\\valid\\images\\GOPR0492_MP4-218_jpg.rf.e71f1be498ada2e6177e2b2c75be0813.jpg: 640x640 1 drowsy, 81.7ms\n",
      "image 28/103 D:\\College\\SDGP\\drowseguard-ml\\Drowsiness-Detection-2\\valid\\images\\GOPR0492_MP4-219_jpg.rf.09e36156f719f94a63b6103bef3245c8.jpg: 640x640 1 drowsy, 83.9ms\n",
      "image 29/103 D:\\College\\SDGP\\drowseguard-ml\\Drowsiness-Detection-2\\valid\\images\\GOPR0492_MP4-230_jpg.rf.ed154fb5f9fd4ff231fc22d30b9880cd.jpg: 640x640 1 drowsy, 84.8ms\n",
      "image 30/103 D:\\College\\SDGP\\drowseguard-ml\\Drowsiness-Detection-2\\valid\\images\\GOPR0492_MP4-237_jpg.rf.08f2ef8c2d334978ce0cd94a91ac9a31.jpg: 640x640 1 drowsy, 83.2ms\n",
      "image 31/103 D:\\College\\SDGP\\drowseguard-ml\\Drowsiness-Detection-2\\valid\\images\\GOPR0492_MP4-23_jpg.rf.bc9d5b79a38fefe6c7fd8088cef1246f.jpg: 640x640 1 drowsy, 86.2ms\n",
      "image 32/103 D:\\College\\SDGP\\drowseguard-ml\\Drowsiness-Detection-2\\valid\\images\\GOPR0492_MP4-243_jpg.rf.6edb63ae41a6ceaf538fac47026d7aa9.jpg: 640x640 1 drowsy, 82.9ms\n",
      "image 33/103 D:\\College\\SDGP\\drowseguard-ml\\Drowsiness-Detection-2\\valid\\images\\GOPR0492_MP4-248_jpg.rf.9d155d2455ce89b01d081e78551ce35c.jpg: 640x640 1 drowsy, 81.7ms\n",
      "image 34/103 D:\\College\\SDGP\\drowseguard-ml\\Drowsiness-Detection-2\\valid\\images\\GOPR0492_MP4-24_jpg.rf.a5213ac16e13b46c6bdfc8c6efa81b23.jpg: 640x640 1 drowsy, 83.2ms\n",
      "image 35/103 D:\\College\\SDGP\\drowseguard-ml\\Drowsiness-Detection-2\\valid\\images\\GOPR0492_MP4-253_jpg.rf.b28dd94d7b772fa892d02140bf6cb341.jpg: 640x640 1 drowsy, 86.7ms\n",
      "image 36/103 D:\\College\\SDGP\\drowseguard-ml\\Drowsiness-Detection-2\\valid\\images\\GOPR0492_MP4-258_jpg.rf.2ff6fc792648907874e2e241050d8c5d.jpg: 640x640 1 drowsy, 88.8ms\n",
      "image 37/103 D:\\College\\SDGP\\drowseguard-ml\\Drowsiness-Detection-2\\valid\\images\\GOPR0492_MP4-259_jpg.rf.4c70a9902f4ef307c80e038759d24abf.jpg: 640x640 1 drowsy, 95.3ms\n",
      "image 38/103 D:\\College\\SDGP\\drowseguard-ml\\Drowsiness-Detection-2\\valid\\images\\GOPR0492_MP4-260_jpg.rf.f43ce3489507c96c2bdbae1603529f54.jpg: 640x640 1 drowsy, 85.0ms\n",
      "image 39/103 D:\\College\\SDGP\\drowseguard-ml\\Drowsiness-Detection-2\\valid\\images\\GOPR0492_MP4-261_jpg.rf.e03e675e83ac5a1e0a6654380ebfcbef.jpg: 640x640 1 drowsy, 86.9ms\n",
      "image 40/103 D:\\College\\SDGP\\drowseguard-ml\\Drowsiness-Detection-2\\valid\\images\\GOPR0492_MP4-263_jpg.rf.ba753d8b175d7475d9b4f3f990d8aef9.jpg: 640x640 1 drowsy, 86.7ms\n",
      "image 41/103 D:\\College\\SDGP\\drowseguard-ml\\Drowsiness-Detection-2\\valid\\images\\GOPR0492_MP4-264_jpg.rf.9d63f2faf6935d3680927637f3b20936.jpg: 640x640 1 drowsy, 88.1ms\n",
      "image 42/103 D:\\College\\SDGP\\drowseguard-ml\\Drowsiness-Detection-2\\valid\\images\\GOPR0492_MP4-265_jpg.rf.2f65a8acd1f353419f4c2f54c61fbddd.jpg: 640x640 1 drowsy, 83.8ms\n",
      "image 43/103 D:\\College\\SDGP\\drowseguard-ml\\Drowsiness-Detection-2\\valid\\images\\GOPR0492_MP4-269_jpg.rf.96cc7975520ca56b62a3d980ecc39b19.jpg: 640x640 1 awake, 85.4ms\n",
      "image 44/103 D:\\College\\SDGP\\drowseguard-ml\\Drowsiness-Detection-2\\valid\\images\\GOPR0492_MP4-270_jpg.rf.7627540b5bc432cb37a6994e062a7ba9.jpg: 640x640 1 awake, 83.3ms\n",
      "image 45/103 D:\\College\\SDGP\\drowseguard-ml\\Drowsiness-Detection-2\\valid\\images\\GOPR0492_MP4-272_jpg.rf.32a3df866359306cca272ab4da1d1304.jpg: 640x640 1 awake, 83.7ms\n",
      "image 46/103 D:\\College\\SDGP\\drowseguard-ml\\Drowsiness-Detection-2\\valid\\images\\GOPR0492_MP4-273_jpg.rf.f0c29d257220b242681d74ca8a549b98.jpg: 640x640 1 awake, 82.1ms\n",
      "image 47/103 D:\\College\\SDGP\\drowseguard-ml\\Drowsiness-Detection-2\\valid\\images\\GOPR0492_MP4-276_jpg.rf.a60da80518301240bbf0e496845b825e.jpg: 640x640 1 drowsy, 85.4ms\n",
      "image 48/103 D:\\College\\SDGP\\drowseguard-ml\\Drowsiness-Detection-2\\valid\\images\\GOPR0492_MP4-287_jpg.rf.1ed6b9f94190ef050988eda55a94f7a6.jpg: 640x640 1 drowsy, 87.6ms\n",
      "image 49/103 D:\\College\\SDGP\\drowseguard-ml\\Drowsiness-Detection-2\\valid\\images\\GOPR0492_MP4-298_jpg.rf.e366845186130df71e3894fe6197f2ba.jpg: 640x640 1 drowsy, 85.0ms\n",
      "image 50/103 D:\\College\\SDGP\\drowseguard-ml\\Drowsiness-Detection-2\\valid\\images\\GOPR0492_MP4-301_jpg.rf.fcf268cd30fac5a2022260c558f054d7.jpg: 640x640 1 drowsy, 87.5ms\n",
      "image 51/103 D:\\College\\SDGP\\drowseguard-ml\\Drowsiness-Detection-2\\valid\\images\\GOPR0492_MP4-304_jpg.rf.3cdabe38c35a8b370cca184e0776ce26.jpg: 640x640 1 drowsy, 90.7ms\n",
      "image 52/103 D:\\College\\SDGP\\drowseguard-ml\\Drowsiness-Detection-2\\valid\\images\\GOPR0492_MP4-306_jpg.rf.beb0461a23d8950cff88c854486f15ac.jpg: 640x640 1 drowsy, 87.9ms\n",
      "image 53/103 D:\\College\\SDGP\\drowseguard-ml\\Drowsiness-Detection-2\\valid\\images\\GOPR0492_MP4-310_jpg.rf.912c917a6e932a1d3873a463207de1c6.jpg: 640x640 1 drowsy, 86.8ms\n",
      "image 54/103 D:\\College\\SDGP\\drowseguard-ml\\Drowsiness-Detection-2\\valid\\images\\GOPR0492_MP4-315_jpg.rf.4bd70fcc0bcf436cf815c92758f91c14.jpg: 640x640 1 drowsy, 78.7ms\n",
      "image 55/103 D:\\College\\SDGP\\drowseguard-ml\\Drowsiness-Detection-2\\valid\\images\\GOPR0492_MP4-329_jpg.rf.2bb6edafe9388a2cf2d41e8263b6ed8a.jpg: 640x640 1 awake, 81.7ms\n",
      "image 56/103 D:\\College\\SDGP\\drowseguard-ml\\Drowsiness-Detection-2\\valid\\images\\GOPR0492_MP4-330_jpg.rf.8954ecdb6a62a8272092a086675fbddc.jpg: 640x640 1 awake, 84.5ms\n",
      "image 57/103 D:\\College\\SDGP\\drowseguard-ml\\Drowsiness-Detection-2\\valid\\images\\GOPR0492_MP4-335_jpg.rf.7a9323bd6494ae082a620172432e13e6.jpg: 640x640 1 awake, 86.2ms\n",
      "image 58/103 D:\\College\\SDGP\\drowseguard-ml\\Drowsiness-Detection-2\\valid\\images\\GOPR0492_MP4-336_jpg.rf.b046def8a1bfa2926d529ede9b079ef0.jpg: 640x640 1 awake, 80.5ms\n",
      "image 59/103 D:\\College\\SDGP\\drowseguard-ml\\Drowsiness-Detection-2\\valid\\images\\GOPR0492_MP4-337_jpg.rf.aedfb32c60e11f45dec0445e0567b9e6.jpg: 640x640 1 awake, 84.6ms\n",
      "image 60/103 D:\\College\\SDGP\\drowseguard-ml\\Drowsiness-Detection-2\\valid\\images\\GOPR0492_MP4-340_jpg.rf.a9afb99d608603c196d656c4a6950660.jpg: 640x640 1 awake, 84.1ms\n",
      "image 61/103 D:\\College\\SDGP\\drowseguard-ml\\Drowsiness-Detection-2\\valid\\images\\GOPR0492_MP4-341_jpg.rf.cade9c51291e65f06c00a9fa9bf328ba.jpg: 640x640 1 awake, 83.3ms\n",
      "image 62/103 D:\\College\\SDGP\\drowseguard-ml\\Drowsiness-Detection-2\\valid\\images\\GOPR0492_MP4-344_jpg.rf.daad15ab59d9769ec452e88af72e5be3.jpg: 640x640 1 awake, 83.2ms\n",
      "image 63/103 D:\\College\\SDGP\\drowseguard-ml\\Drowsiness-Detection-2\\valid\\images\\GOPR0492_MP4-354_jpg.rf.ac22fc67fe9c05802e18a300bc67480b.jpg: 640x640 1 awake, 88.2ms\n",
      "image 64/103 D:\\College\\SDGP\\drowseguard-ml\\Drowsiness-Detection-2\\valid\\images\\GOPR0492_MP4-357_jpg.rf.8552a19c91cf132992e6bfab6f21defa.jpg: 640x640 1 awake, 90.3ms\n",
      "image 65/103 D:\\College\\SDGP\\drowseguard-ml\\Drowsiness-Detection-2\\valid\\images\\GOPR0492_MP4-378_jpg.rf.b5518c6b17526cfe4e6e3b736f4f591a.jpg: 640x640 1 awake, 85.9ms\n",
      "image 66/103 D:\\College\\SDGP\\drowseguard-ml\\Drowsiness-Detection-2\\valid\\images\\GOPR0492_MP4-386_jpg.rf.2e94eab8be0e4a24940fbbe8f3a0ebcf.jpg: 640x640 1 awake, 83.6ms\n",
      "image 67/103 D:\\College\\SDGP\\drowseguard-ml\\Drowsiness-Detection-2\\valid\\images\\GOPR0492_MP4-389_jpg.rf.7acbcd73b76875bcfbf123e97bebd5cf.jpg: 640x640 1 awake, 85.5ms\n",
      "image 68/103 D:\\College\\SDGP\\drowseguard-ml\\Drowsiness-Detection-2\\valid\\images\\GOPR0492_MP4-392_jpg.rf.3c07f6224abb500762efd9272f6ae402.jpg: 640x640 1 drowsy, 81.3ms\n",
      "image 69/103 D:\\College\\SDGP\\drowseguard-ml\\Drowsiness-Detection-2\\valid\\images\\GOPR0492_MP4-393_jpg.rf.df458292b367cdd2207de1b458164e8b.jpg: 640x640 1 drowsy, 81.8ms\n",
      "image 70/103 D:\\College\\SDGP\\drowseguard-ml\\Drowsiness-Detection-2\\valid\\images\\GOPR0492_MP4-398_jpg.rf.dae152a32dbd72af2e69a54bec3f63a4.jpg: 640x640 1 awake, 85.5ms\n",
      "image 71/103 D:\\College\\SDGP\\drowseguard-ml\\Drowsiness-Detection-2\\valid\\images\\GOPR0492_MP4-406_jpg.rf.edb9d9b4939cb5f0e20bac21fc998b77.jpg: 640x640 1 awake, 83.5ms\n",
      "image 72/103 D:\\College\\SDGP\\drowseguard-ml\\Drowsiness-Detection-2\\valid\\images\\GOPR0492_MP4-409_jpg.rf.891df2ff03fb3ae701d27016bab72b42.jpg: 640x640 1 awake, 83.9ms\n",
      "image 73/103 D:\\College\\SDGP\\drowseguard-ml\\Drowsiness-Detection-2\\valid\\images\\GOPR0492_MP4-411_jpg.rf.53d8caa4f0c3fdce984c4a0dd12921cd.jpg: 640x640 1 awake, 86.0ms\n",
      "image 74/103 D:\\College\\SDGP\\drowseguard-ml\\Drowsiness-Detection-2\\valid\\images\\GOPR0492_MP4-414_jpg.rf.5a25f89ba11e5bfedd89fce61b6bf95f.jpg: 640x640 1 awake, 86.9ms\n",
      "image 75/103 D:\\College\\SDGP\\drowseguard-ml\\Drowsiness-Detection-2\\valid\\images\\GOPR0492_MP4-416_jpg.rf.e2e11645cebdaaa65c12630326d6eb8b.jpg: 640x640 1 awake, 85.0ms\n",
      "image 76/103 D:\\College\\SDGP\\drowseguard-ml\\Drowsiness-Detection-2\\valid\\images\\GOPR0492_MP4-417_jpg.rf.4d99078b27b812ff3f252d9d81dfe618.jpg: 640x640 1 awake, 87.6ms\n",
      "image 77/103 D:\\College\\SDGP\\drowseguard-ml\\Drowsiness-Detection-2\\valid\\images\\GOPR0492_MP4-431_jpg.rf.291ee4f8356972b6b66d417431d9b463.jpg: 640x640 1 awake, 84.9ms\n",
      "image 78/103 D:\\College\\SDGP\\drowseguard-ml\\Drowsiness-Detection-2\\valid\\images\\GOPR0492_MP4-436_jpg.rf.7f5088fe26874445c789e2d3961281a4.jpg: 640x640 1 awake, 86.8ms\n",
      "image 79/103 D:\\College\\SDGP\\drowseguard-ml\\Drowsiness-Detection-2\\valid\\images\\GOPR0492_MP4-446_jpg.rf.dd9b30e9d83e4011cb2f4db5c3dcab26.jpg: 640x640 1 drowsy, 101.5ms\n",
      "image 80/103 D:\\College\\SDGP\\drowseguard-ml\\Drowsiness-Detection-2\\valid\\images\\GOPR0492_MP4-44_jpg.rf.76dfe38366dbae2de75a3d5f7112350f.jpg: 640x640 1 awake, 86.8ms\n",
      "image 81/103 D:\\College\\SDGP\\drowseguard-ml\\Drowsiness-Detection-2\\valid\\images\\GOPR0492_MP4-467_jpg.rf.9e71fb6592b26a717b9c7af6c64240bb.jpg: 640x640 1 awake, 84.8ms\n",
      "image 82/103 D:\\College\\SDGP\\drowseguard-ml\\Drowsiness-Detection-2\\valid\\images\\GOPR0492_MP4-471_jpg.rf.078ec0470a384d81292360dd74443a16.jpg: 640x640 1 awake, 207.5ms\n",
      "image 83/103 D:\\College\\SDGP\\drowseguard-ml\\Drowsiness-Detection-2\\valid\\images\\GOPR0492_MP4-486_jpg.rf.f5608b5af99eb65179fd77c5c202c08b.jpg: 640x640 1 awake, 86.4ms\n",
      "image 84/103 D:\\College\\SDGP\\drowseguard-ml\\Drowsiness-Detection-2\\valid\\images\\GOPR0492_MP4-489_jpg.rf.ead4fe0013d4851180b130879b85d90f.jpg: 640x640 1 awake, 84.2ms\n",
      "image 85/103 D:\\College\\SDGP\\drowseguard-ml\\Drowsiness-Detection-2\\valid\\images\\GOPR0492_MP4-494_jpg.rf.a88a7642681a3e4e449a78c18687a297.jpg: 640x640 1 awake, 85.4ms\n",
      "image 86/103 D:\\College\\SDGP\\drowseguard-ml\\Drowsiness-Detection-2\\valid\\images\\GOPR0492_MP4-499_jpg.rf.78bd58d29a6eb20a6f64d27fb0acf855.jpg: 640x640 1 awake, 86.4ms\n",
      "image 87/103 D:\\College\\SDGP\\drowseguard-ml\\Drowsiness-Detection-2\\valid\\images\\GOPR0492_MP4-501_jpg.rf.97ddd8264b548350e4d7f95a9c971b6d.jpg: 640x640 1 awake, 89.6ms\n",
      "image 88/103 D:\\College\\SDGP\\drowseguard-ml\\Drowsiness-Detection-2\\valid\\images\\GOPR0492_MP4-502_jpg.rf.c29e73a13e45a3e918c6ca4347d30973.jpg: 640x640 1 awake, 89.7ms\n",
      "image 89/103 D:\\College\\SDGP\\drowseguard-ml\\Drowsiness-Detection-2\\valid\\images\\GOPR0492_MP4-504_jpg.rf.4275415616d357fe8fb7ab815170253a.jpg: 640x640 1 awake, 85.2ms\n",
      "image 90/103 D:\\College\\SDGP\\drowseguard-ml\\Drowsiness-Detection-2\\valid\\images\\GOPR0492_MP4-506_jpg.rf.55664c34941592c2e27dcf32f6ce59e3.jpg: 640x640 1 awake, 85.8ms\n",
      "image 91/103 D:\\College\\SDGP\\drowseguard-ml\\Drowsiness-Detection-2\\valid\\images\\GOPR0492_MP4-512_jpg.rf.cb20d9c5b0966b4270384849f30c9c4e.jpg: 640x640 1 awake, 82.9ms\n",
      "image 92/103 D:\\College\\SDGP\\drowseguard-ml\\Drowsiness-Detection-2\\valid\\images\\GOPR0492_MP4-516_jpg.rf.2677b237474f257b1acc2d6c9abac8d3.jpg: 640x640 1 awake, 90.4ms\n",
      "image 93/103 D:\\College\\SDGP\\drowseguard-ml\\Drowsiness-Detection-2\\valid\\images\\GOPR0492_MP4-518_jpg.rf.bc64c3fdeab40be218dd7d2c83408712.jpg: 640x640 1 drowsy, 85.6ms\n",
      "image 94/103 D:\\College\\SDGP\\drowseguard-ml\\Drowsiness-Detection-2\\valid\\images\\GOPR0492_MP4-519_jpg.rf.de412d6eac1003ef09fb0d1d2533372f.jpg: 640x640 1 drowsy, 81.4ms\n",
      "image 95/103 D:\\College\\SDGP\\drowseguard-ml\\Drowsiness-Detection-2\\valid\\images\\GOPR0492_MP4-527_jpg.rf.f564788268b3947fa0d6a923c25539cf.jpg: 640x640 1 awake, 82.4ms\n",
      "image 96/103 D:\\College\\SDGP\\drowseguard-ml\\Drowsiness-Detection-2\\valid\\images\\GOPR0492_MP4-60_jpg.rf.70270240ba839d7f973b10b503bd1e55.jpg: 640x640 1 drowsy, 82.3ms\n",
      "image 97/103 D:\\College\\SDGP\\drowseguard-ml\\Drowsiness-Detection-2\\valid\\images\\GOPR0492_MP4-62_jpg.rf.7dd2e6ad36a08a8578f20c9bf27ab532.jpg: 640x640 1 drowsy, 88.3ms\n",
      "image 98/103 D:\\College\\SDGP\\drowseguard-ml\\Drowsiness-Detection-2\\valid\\images\\GOPR0492_MP4-65_jpg.rf.2273a16121a57a1d769adfda48dadad8.jpg: 640x640 1 drowsy, 105.4ms\n",
      "image 99/103 D:\\College\\SDGP\\drowseguard-ml\\Drowsiness-Detection-2\\valid\\images\\GOPR0492_MP4-69_jpg.rf.70bea12af4164f6d1474a23be68844e6.jpg: 640x640 1 drowsy, 90.1ms\n",
      "image 100/103 D:\\College\\SDGP\\drowseguard-ml\\Drowsiness-Detection-2\\valid\\images\\GOPR0492_MP4-74_jpg.rf.3c407acadc39c2bcc3277cd8b720091d.jpg: 640x640 1 awake, 96.3ms\n",
      "image 101/103 D:\\College\\SDGP\\drowseguard-ml\\Drowsiness-Detection-2\\valid\\images\\GOPR0492_MP4-76_jpg.rf.8df612ac30134c9e269ec94ecec06057.jpg: 640x640 1 drowsy, 88.8ms\n",
      "image 102/103 D:\\College\\SDGP\\drowseguard-ml\\Drowsiness-Detection-2\\valid\\images\\GOPR0492_MP4-81_jpg.rf.8b1bad0cf35f71489d415a7d9e1683e2.jpg: 640x640 1 drowsy, 89.2ms\n",
      "image 103/103 D:\\College\\SDGP\\drowseguard-ml\\Drowsiness-Detection-2\\valid\\images\\GOPR0492_MP4-85_jpg.rf.92ab8b9b9e8a38b10faac128d8cf5c8b.jpg: 640x640 1 awake, 121.1ms\n",
      "Speed: 4.2ms preprocess, 87.5ms inference, 0.8ms postprocess per image at shape (1, 3, 640, 640)\n"
     ]
    }
   ],
   "source": [
    "results = model.predict(data='data.yaml', imgsz=640, val=True, source='Drowsiness-Detection-2/valid/images')"
   ]
  },
  {
   "cell_type": "code",
   "execution_count": 6,
   "id": "ab47b254-ff66-401e-a22b-63a90a2dbaec",
   "metadata": {
    "tags": []
   },
   "outputs": [],
   "source": [
    "model = YOLO('models/best.pt')  # load a custom model"
   ]
  },
  {
   "cell_type": "code",
   "execution_count": 16,
   "id": "63bc83b9-9f42-462a-9bb2-c4702f05cd4e",
   "metadata": {
    "tags": []
   },
   "outputs": [
    {
     "name": "stdout",
     "output_type": "stream",
     "text": [
      "Ultralytics YOLOv8.1.20 🚀 Python-3.11.5 torch-2.2.1+cpu CPU (AMD Ryzen 7 5700U with Radeon Graphics)\n"
     ]
    },
    {
     "name": "stderr",
     "output_type": "stream",
     "text": [
      "\u001b[34m\u001b[1mval: \u001b[0mScanning D:\\College\\SDGP\\drowseguard-ml\\Drowsiness-Detection-2\\test\\labels.cache... 71 images, 0 backgrounds, 0 co\u001b[0m\n",
      "                 Class     Images  Instances      Box(P          R      mAP50  mAP50-95): 100%|██████████| 5/5 [00:08<0\n"
     ]
    },
    {
     "name": "stdout",
     "output_type": "stream",
     "text": [
      "                   all         71         71      0.926      0.927      0.952      0.864\n",
      "                 awake         71         40      0.921       0.95      0.971       0.88\n",
      "                drowsy         71         31      0.931      0.903      0.932      0.849\n",
      "Speed: 4.5ms preprocess, 91.5ms inference, 0.0ms loss, 0.7ms postprocess per image\n",
      "Results saved to \u001b[1mruns\\detect\\val32\u001b[0m\n"
     ]
    }
   ],
   "source": [
    "validation_results = model.val(data='data.yaml',imgsz=640,split='test')"
   ]
  }
 ],
 "metadata": {
  "kernelspec": {
   "display_name": "Python 3 (ipykernel)",
   "language": "python",
   "name": "python3"
  },
  "language_info": {
   "codemirror_mode": {
    "name": "ipython",
    "version": 3
   },
   "file_extension": ".py",
   "mimetype": "text/x-python",
   "name": "python",
   "nbconvert_exporter": "python",
   "pygments_lexer": "ipython3",
   "version": "3.11.5"
  }
 },
 "nbformat": 4,
 "nbformat_minor": 5
}
